{
 "cells": [
  {
   "cell_type": "code",
   "execution_count": 16,
   "id": "78b6f183-7b0b-42d5-ad17-f339b97f0ea2",
   "metadata": {},
   "outputs": [
    {
     "name": "stderr",
     "output_type": "stream",
     "text": [
      "C:\\Users\\roypr\\AppData\\Local\\Temp\\ipykernel_8420\\2457407551.py:6: DtypeWarning: Columns (1,2) have mixed types. Specify dtype option on import or set low_memory=False.\n",
      "  data = pd.read_csv(file_path)\n"
     ]
    },
    {
     "name": "stdout",
     "output_type": "stream",
     "text": [
      "Map has been saved to C:\\Users\\roypr\\Downloads\\rainfall_intensity_map.html\n"
     ]
    }
   ],
   "source": [
    "import pandas as pd\n",
    "import folium\n",
    "from folium.plugins import MarkerCluster\n",
    "\n",
    "file_path = r\"C:\\Users\\roypr\\Downloads\\Daily_rainfall_data_BD.csv\"\n",
    "data = pd.read_csv(file_path)\n",
    "\n",
    "# Data aggregation and average rainfall calculation\n",
    "station_avg_rainfall = data.groupby(['Station', 'Lat', 'Long']).agg({'Rainfall': 'mean'}).reset_index()\n",
    "\n",
    "# Referencing to Bangladesh's map (approximate central latitude and longitude)\n",
    "bangladesh_map = folium.Map(location=[23.6850, 90.3563], zoom_start=7)\n",
    "\n",
    "# Marker cluster\n",
    "marker_cluster = MarkerCluster().add_to(bangladesh_map)\n",
    "\n",
    "# Marker proportions (in reference to the average rainfall)\n",
    "for idx, row in station_avg_rainfall.iterrows():\n",
    "    folium.CircleMarker(\n",
    "        location=[row['Lat'], row['Long']],\n",
    "        radius=row['Rainfall'] / 10,  # Adjust the divisor for appropriate scaling\n",
    "        popup=f\"Station: {row['Station']}\\nAvg Rainfall: {row['Rainfall']} mm\",\n",
    "        color='blue',\n",
    "        fill=True,\n",
    "        fill_color='blue'\n",
    "    ).add_to(marker_cluster)\n",
    "\n",
    "# Save the map to an HTML file and display\n",
    "output_path = r'C:\\Users\\roypr\\Downloads\\rainfall_intensity_map.html'\n",
    "bangladesh_map.save(output_path)\n",
    "\n",
    "# Display the path to user\n",
    "print(f\"Map has been saved to {output_path}\")\n"
   ]
  },
  {
   "cell_type": "code",
   "execution_count": null,
   "id": "7742dbcb-a3bb-445d-a1c1-34608477f8ff",
   "metadata": {},
   "outputs": [],
   "source": []
  },
  {
   "cell_type": "code",
   "execution_count": null,
   "id": "cacc1d47-35e3-4fca-b049-e1363a984cba",
   "metadata": {},
   "outputs": [],
   "source": []
  }
 ],
 "metadata": {
  "kernelspec": {
   "display_name": "Python 3 (ipykernel)",
   "language": "python",
   "name": "python3"
  },
  "language_info": {
   "codemirror_mode": {
    "name": "ipython",
    "version": 3
   },
   "file_extension": ".py",
   "mimetype": "text/x-python",
   "name": "python",
   "nbconvert_exporter": "python",
   "pygments_lexer": "ipython3",
   "version": "3.12.4"
  }
 },
 "nbformat": 4,
 "nbformat_minor": 5
}
